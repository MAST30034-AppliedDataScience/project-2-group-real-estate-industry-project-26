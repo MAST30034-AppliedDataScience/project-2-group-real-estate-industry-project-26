{
 "cells": [
  {
   "cell_type": "code",
   "execution_count": null,
   "id": "59a9e24f",
   "metadata": {},
   "outputs": [],
   "source": [
    "# Libraries\n",
    "import pandas as pd\n",
    "import matplotlib.pyplot as plt\n",
    "import seaborn as sns\n",
    "from sklearn.ensemble import RandomForestRegressor\n",
    "\n",
    "# Load the preprocessed data\n",
    "data_full = pd.read_csv('data/curated/final_data_full.csv')\n",
    "data_num = pd.read_csv('data/curated/final_data_num.csv') \n",
    "\n",
    "# Using the data from these two files to generate visualizations"
   ]
  },
  {
   "cell_type": "markdown",
   "id": "5a52ec9b",
   "metadata": {},
   "source": [
    "1. Feature importance graph"
   ]
  },
  {
   "cell_type": "code",
   "execution_count": 2,
   "id": "bb8cad9a",
   "metadata": {},
   "outputs": [],
   "source": [
    "# Feature Importance Graph (Random Forest)\n",
    "X = data_full.drop(columns='price')  # Features\n",
    "y = data_full['price']  # Target\n",
    "\n",
    "# Train a Random Forest Regressor\n",
    "rf_model = RandomForestRegressor(n_estimators=100, random_state=42)\n",
    "rf_model.fit(X, y)\n",
    "\n",
    "# Get feature importance scores from the model\n",
    "importance_scores = rf_model.feature_importances_\n",
    "\n",
    "# Create a DataFrame for feature importance\n",
    "feature_importance = pd.DataFrame({'Feature': X.columns, 'Importance': importance_scores})\n",
    "feature_importance.sort_values(by='Importance', ascending=False, inplace=True)\n",
    "\n",
    "# Plot the feature importance graph\n",
    "plt.figure(figsize=(8, 6))\n",
    "bars = plt.bar(feature_importance['Feature'], feature_importance['Importance'], color='#FF9999')\n",
    "plt.title('Feature Importance Graph')\n",
    "plt.xlabel('Feature')\n",
    "plt.ylabel('Importance')\n",
    "plt.xticks(rotation=45)\n",
    "plt.tight_layout()\n",
    "plt.show()"
   ]
  },
  {
   "cell_type": "markdown",
   "id": "0b1c69df",
   "metadata": {},
   "source": [
    "2. Correlation heatmap between features"
   ]
  },
  {
   "cell_type": "code",
   "execution_count": null,
   "id": "18816971",
   "metadata": {},
   "outputs": [],
   "source": [
    "# Correlation Heatmap Between Features\n",
    "corr_matrix = data_full.corr()\n",
    "plt.figure(figsize=(12, 8))\n",
    "sns.heatmap(corr_matrix, annot=True, cmap=\"coolwarm\", fmt='.2f')\n",
    "plt.title('Correlation Heatmap Between Features')\n",
    "plt.show()"
   ]
  },
  {
   "cell_type": "markdown",
   "id": "4f0ba04b",
   "metadata": {},
   "source": [
    "3. Top 10 suburbs with highest predicted growth rate"
   ]
  },
  {
   "cell_type": "code",
   "execution_count": 4,
   "id": "14c87daf",
   "metadata": {},
   "outputs": [],
   "source": [
    "# Top 10 Suburbs with Highest Predicted Growth Rate\n",
    "growth_rates = data_growth.groupby('suburb')['growth_rate'].mean().sort_values(ascending=False).head(10)\n",
    "plt.figure(figsize=(10, 6))\n",
    "bars = plt.bar(growth_rates.index, growth_rates.values, color=['#FF9999', '#66B2FF', '#99FF99', '#FFCC99', '#FF9966'])\n",
    "plt.title('Top 10 Suburbs with Highest Predicted Growth Rate')\n",
    "plt.xlabel('Suburb')\n",
    "plt.ylabel('Predicted Growth Rate (%)')\n",
    "plt.xticks(rotation=45)\n",
    "\n",
    "for bar in bars:\n",
    "    height = bar.get_height()\n",
    "    plt.text(bar.get_x() + bar.get_width() / 2.0, height, f'{height:.1f}%', ha='center', va='bottom')\n",
    "\n",
    "plt.tight_layout()\n",
    "plt.show()"
   ]
  },
  {
   "cell_type": "markdown",
   "id": "fc3d7f31",
   "metadata": {},
   "source": [
    "4. Projected rental growth over 5 years"
   ]
  },
  {
   "cell_type": "code",
   "execution_count": 6,
   "id": "d65eb264",
   "metadata": {},
   "outputs": [],
   "source": [
    "# Projected Rental Price Growth Over 5 Years\n",
    "suburbs = ['West Melbourne', 'Docklands', 'Brighton', 'Berwick', 'Hawthorn', 'Glen Iris', 'Richmond', 'Essendon', 'CBD', 'Kew']\n",
    "years = [0, 1, 2, 3, 4, 5]\n",
    "projected_prices = {\n",
    "    'West Melbourne': [1.0, 1.1, 1.2, 1.3, 1.4, 1.5],\n",
    "    'Docklands': [0.5, 0.6, 0.7, 0.8, 0.9, 1.0],\n",
    "    'Brighton': [0.8, 0.9, 1.0, 1.1, 1.2, 1.3],\n",
    "}\n",
    "\n",
    "plt.figure(figsize=(10, 6))\n",
    "for suburb, prices in projected_prices.items():\n",
    "    plt.plot(years, prices, marker='o', label=suburb)\n",
    "\n",
    "plt.title('Projected Rental Price Growth Over 5 Years')\n",
    "plt.xlabel('Year')\n",
    "plt.ylabel('Projected Rental Price ($)')\n",
    "plt.legend(loc='upper left')\n",
    "plt.tight_layout()\n",
    "plt.show()"
   ]
  },
  {
   "cell_type": "markdown",
   "id": "a5e92760",
   "metadata": {},
   "source": [
    "5. Median rental prices of top 7 liveable and affordable suburbs"
   ]
  },
  {
   "cell_type": "code",
   "execution_count": 8,
   "id": "a5ffb677",
   "metadata": {},
   "outputs": [],
   "source": [
    "# Median Rental Prices of Top 7 Liveable and Affordable Suburbs\n",
    "median_prices = data_full.groupby('suburb')['price'].median().sort_values(ascending=True)\n",
    "plt.figure(figsize=(10, 6))\n",
    "bars = plt.bar(median_prices.index[:7], median_prices.values[:7], color='#FF6666')\n",
    "plt.title('Median Rental Prices of Top 7 Liveable and Affordable Suburbs')\n",
    "plt.xlabel('Suburb')\n",
    "plt.ylabel('Median Rental Price ($)')\n",
    "plt.xticks(rotation=45)\n",
    "\n",
    "for bar in bars:\n",
    "    height = bar.get_height()\n",
    "    plt.text(bar.get_x() + bar.get_width() / 2.0, height / 2, f'{height:.2f}', ha='center', va='center', color='black')\n",
    "\n",
    "plt.tight_layout()\n",
    "plt.show()"
   ]
  },
  {
   "cell_type": "markdown",
   "id": "3f9feca8",
   "metadata": {},
   "source": [
    "6. Liveability scores of top 7 affordable suburbs"
   ]
  },
  {
   "cell_type": "code",
   "execution_count": null,
   "id": "c5005fa3",
   "metadata": {},
   "outputs": [],
   "source": [
    "# Liveability Scores of Top 7 Affordable Suburbs\n",
    "data_liveability['liveability_score'] = (\n",
    "    data_liveability['school_count'] + \n",
    "    data_liveability['park_count'] + \n",
    "    data_liveability['shopping_center_count'] + \n",
    "    data_liveability['station_count']\n",
    ")\n",
    "\n",
    "liveability_scores = data_liveability.groupby('suburb')['liveability_score'].sum().sort_values(ascending=False).head(7)\n",
    "plt.figure(figsize=(10, 6))\n",
    "bars = plt.bar(liveability_scores.index, liveability_scores.values, color='#66B2FF')\n",
    "plt.title('Liveability Scores of Top 7 Affordable Suburbs')\n",
    "plt.xlabel('Suburb')\n",
    "plt.ylabel('Liveability Score')\n",
    "plt.xticks(rotation=45)\n",
    "\n",
    "for bar in bars:\n",
    "    height = bar.get_height()\n",
    "    plt.text(bar.get_x() + bar.get_width() / 2.0, height / 2, f'{height:.1f}', ha='center', va='center', color='black')\n",
    "\n",
    "plt.tight_layout()\n",
    "plt.show()"
   ]
  }
 ],
 "metadata": {
  "kernelspec": {
   "display_name": "Python 3.11.7 ('base')",
   "language": "python",
   "name": "python3"
  },
  "language_info": {
   "codemirror_mode": {
    "name": "ipython",
    "version": 3
   },
   "file_extension": ".py",
   "mimetype": "text/x-python",
   "name": "python",
   "nbconvert_exporter": "python",
   "pygments_lexer": "ipython3",
   "version": "3.11.7"
  },
  "vscode": {
   "interpreter": {
    "hash": "40d3a090f54c6569ab1632332b64b2c03c39dcf918b08424e98f38b5ae0af88f"
   }
  }
 },
 "nbformat": 4,
 "nbformat_minor": 5
}
