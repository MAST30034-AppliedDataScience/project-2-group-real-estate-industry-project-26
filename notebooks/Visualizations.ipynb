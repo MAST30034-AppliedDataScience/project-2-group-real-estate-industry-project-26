{
 "cells": [
  {
   "cell_type": "code",
   "execution_count": null,
   "id": "59a9e24f",
   "metadata": {},
   "outputs": [],
   "source": [
    "# Libraries\n",
    "import pandas as pd\n",
    "import matplotlib.pyplot as plt\n",
    "import seaborn as sns\n",
    "from sklearn.ensemble import RandomForestRegressor\n",
    "\n",
    "# Loading the preprocessed data to aid in creating visualizations\n",
    "data_full = pd.read_csv('data/curated/final_data_full.csv')\n",
    "data_num = pd.read_csv('data/curated/final_data_num.csv') "
   ]
  },
  {
   "cell_type": "markdown",
   "id": "5a52ec9b",
   "metadata": {},
   "source": [
    "1. Feature importance graph"
   ]
  },
  {
   "cell_type": "code",
   "execution_count": 2,
   "id": "bb8cad9a",
   "metadata": {},
   "outputs": [],
   "source": [
    "# Selecting the features that have an impact on rental prices\n",
    "X = data_full.drop('price', axis=1) \n",
    "y = data_full['price'].values  \n",
    "\n",
    "# Training the random forest model to identify which features contribute the most to the prediction\n",
    "rf_model = RandomForestRegressor(n_estimators=100, random_state=42)\n",
    "rf_model.fit(X, y)\n",
    "\n",
    "# Deriveingfeature importance scores from the Random Forest model\n",
    "importance_scores = rf_model.feature_importances_\n",
    "\n",
    "# Creating a DataFrame to rank features by importance and to store the feature names and their corresponding importance scores\n",
    "feature_importance = pd.DataFrame({'Feature': X.columns, 'Importance': importance_scores})\n",
    "\n",
    "# Sorting the DataFrame in descending order of importance, so that the most important features appear first\n",
    "feature_importance = feature_importance.sort_values('Importance', ascending=False)\n",
    "\n",
    "# Plotting the feature importance graph\n",
    "plt.figure(figsize=(8, 6))\n",
    "bars = plt.bar(feature_importance['Feature'], feature_importance['Importance'], color='#FF9999')\n",
    "\n",
    "# Adding annotations to each bar to display the importance value\n",
    "for bar in bars:\n",
    "    height = bar.get_height()\n",
    "    plt.text(bar.get_x() + bar.get_width() / 2, height / 2, f'{height:.2f}', ha='center', va='bottom', color='black')\n",
    "\n",
    "# Setting titles and labels\n",
    "plt.title('Feature Importance Graph (Predicting Rental Price)')\n",
    "plt.xlabel('Feature')\n",
    "plt.ylabel('Importance')\n",
    "plt.xticks(rotation=45)\n",
    "\n",
    "# Adjusting layout to prevent overlap\n",
    "plt.tight_layout()\n",
    "\n",
    "# Show the plot to display the relative importance of each feature used in the random forest model\n",
    "plt.show()"
   ]
  },
  {
   "cell_type": "markdown",
   "id": "0b1c69df",
   "metadata": {},
   "source": [
    "2. Correlation heatmap between features"
   ]
  },
  {
   "cell_type": "code",
   "execution_count": null,
   "id": "18816971",
   "metadata": {},
   "outputs": [],
   "source": [
    "# Calculating the correlation matrix\n",
    "corr_matrix = data_full.corr()\n",
    "\n",
    "#Plotting the heatmap\n",
    "plt.figure(figsize=(12, 8))\n",
    "sns.heatmap(corr_matrix, annot=True, cmap=\"coolwarm\", fmt='.2f')\n",
    "plt.title('Correlation Heatmap Between Features')\n",
    "plt.show()"
   ]
  },
  {
   "cell_type": "markdown",
   "id": "a5e92760",
   "metadata": {},
   "source": [
    "3. Median rental prices of top 7 liveable and affordable suburbs"
   ]
  },
  {
   "cell_type": "code",
   "execution_count": 8,
   "id": "a5ffb677",
   "metadata": {},
   "outputs": [],
   "source": [
    "# Grouping by suburb to calculate median rental prices\n",
    "median_prices = data_full.groupby('suburb')['price'].median()\n",
    "\n",
    "# Sorting the median prices in ascending order to find the top 7 suburbs with the lowest median rental prices\n",
    "median_prices = median_prices.sort_values(ascending=True)\n",
    "\n",
    "# Setting up the plot\n",
    "plt.figure(figsize=(10, 6))  \n",
    "\n",
    "# Plotting the median rental prices for the top 7 affordable suburbs\n",
    "bars = plt.bar(median_prices.index[:7], median_prices.values[:7], color='#FF6666')  # Setting the color for the bars\n",
    "\n",
    "# Adding titles and labels\n",
    "plt.title('Median Rental Prices of Top 7 Liveable and Affordable Suburbs')\n",
    "plt.xlabel('Suburb')\n",
    "plt.ylabel('Median Rental Price ($)')\n",
    "\n",
    "# Rotating the x-axis labels for better readability\n",
    "plt.xticks(rotation=45)\n",
    "\n",
    "# Adding data labels (text) on the bars to display the exact median price value for each suburb\n",
    "for bar in bars:\n",
    "    height = bar.get_height() \n",
    "    plt.text(bar.get_x() + bar.get_width() / 2.0, height / 2, f'{height:.2f}', ha='center', va='center', color='black')\n",
    "\n",
    "# Final adjustments to the layout\n",
    "plt.tight_layout()\n",
    "\n",
    "# Step 9: Displaying the plot as a bar chart with the calculated median rental prices\n",
    "plt.show()"
   ]
  },
  {
   "cell_type": "markdown",
   "id": "3f9feca8",
   "metadata": {},
   "source": [
    "4. Liveability scores of top 7 affordable suburbs"
   ]
  },
  {
   "cell_type": "code",
   "execution_count": null,
   "id": "c5005fa3",
   "metadata": {},
   "outputs": [],
   "source": [
    "# Calculate liveability score for each suburb based on the number of schools, parks, shopping centers, and stations\n",
    "# Liveability score will be considered as the sum of nearby amenities\n",
    "data_liveability['liveability_score'] = (\n",
    "    data_liveability['school_count'] +  \n",
    "    data_liveability['park_count'] +  \n",
    "    data_liveability['shopping_center_count'] +  \n",
    "    data_liveability['station_count']  \n",
    ")\n",
    "\n",
    "# Grouping by suburb to calculate total liveability score per suburb and sort in descending order\n",
    "liveability_scores = data_liveability.groupby('suburb')['liveability_score'].sum()\n",
    "\n",
    "# Sorting liveability scores to get the top 7 affordable suburbs based on liveability\n",
    "top_liveability_scores = liveability_scores.sort_values(ascending=False).head(7)\n",
    "\n",
    "# Visualizing the liveability scores of these top 7 affordable suburbs\n",
    "plt.figure(figsize=(10, 6))\n",
    "\n",
    "# Creating a bar chart with suburbs on the x-axis and their respective liveability scores on the y-axis\n",
    "bars = plt.bar(top_liveability_scores.index, top_liveability_scores.values, color='#66B2FF')\n",
    "\n",
    "# Setting the title and labels for the graph\n",
    "plt.title('Liveability Scores of Top 7 Affordable Suburbs')\n",
    "plt.xlabel('Suburb')\n",
    "plt.ylabel('Liveability Score')\n",
    "plt.xticks(rotation=45) \n",
    "\n",
    "# Adding labels to each bar to show the exact liveability score value\n",
    "for bar in bars:\n",
    "    height = bar.get_height()\n",
    "    plt.text(bar.get_x() + bar.get_width() / 2.0, height / 2, f'{height:.1f}', ha='center', va='center', color='black')\n",
    "\n",
    "# Displaying the plot with proper layout\n",
    "plt.tight_layout()\n",
    "plt.show()"
   ]
  }
 ],
 "metadata": {
  "kernelspec": {
   "display_name": "Python 3.9.0 64-bit",
   "language": "python",
   "name": "python3"
  },
  "language_info": {
   "codemirror_mode": {
    "name": "ipython",
    "version": 3
   },
   "file_extension": ".py",
   "mimetype": "text/x-python",
   "name": "python",
   "nbconvert_exporter": "python",
   "pygments_lexer": "ipython3",
   "version": "3.9.0"
  },
  "vscode": {
   "interpreter": {
    "hash": "aee8b7b246df8f9039afb4144a1f6fd8d2ca17a180786b69acc140d282b71a49"
   }
  }
 },
 "nbformat": 4,
 "nbformat_minor": 5
}
