{
 "cells": [
  {
   "cell_type": "code",
   "execution_count": 1,
   "id": "59a9e24f",
   "metadata": {},
   "outputs": [],
   "source": [
    "import pandas as pd\n",
    "import re\n",
    "import ast"
   ]
  },
  {
   "cell_type": "markdown",
   "id": "010ef642",
   "metadata": {},
   "source": [
    "### Load Data"
   ]
  },
  {
   "cell_type": "code",
   "execution_count": 54,
   "id": "bb8cad9a",
   "metadata": {},
   "outputs": [],
   "source": [
    "property_df = pd.read_csv(\"../data/landing/properties.csv\")"
   ]
  },
  {
   "cell_type": "markdown",
   "id": "0b1c69df",
   "metadata": {},
   "source": [
    "### Basic Information Of Data"
   ]
  },
  {
   "cell_type": "code",
   "execution_count": 60,
   "id": "18816971",
   "metadata": {},
   "outputs": [
    {
     "name": "stdout",
     "output_type": "stream",
     "text": [
      "Number of NA in streetAddress: 0\n",
      "Number of NA in price: 0\n",
      "Number of NA in bedrooms: 0\n",
      "Number of NA in bathrooms: 0\n",
      "Number of NA in parking: 0\n",
      "Number of NA in addressLocality: 0\n",
      "Number of NA in addressRegion: 0\n",
      "Number of NA in postalCode: 0\n",
      "Number of NA in property_type: 0\n",
      "Number of NA in nearby_schools: 0\n",
      "Number of NA in nbn_type: 1389\n",
      "Number of NA in age_distribution: 0\n",
      "Number of NA in geo: 4278\n"
     ]
    }
   ],
   "source": [
    "for a_feature in list(property_df.columns):\n",
    "    na_count = property_df[a_feature].isna().sum()\n",
    "    print(f\"Number of NA in {a_feature}: {na_count}\")"
   ]
  },
  {
   "cell_type": "markdown",
   "id": "abd84baa",
   "metadata": {},
   "source": [
    "### Required Functions"
   ]
  },
  {
   "cell_type": "code",
   "execution_count": 59,
   "id": "14c87daf",
   "metadata": {},
   "outputs": [],
   "source": [
    "def clean_price(price):\n",
    "    if pd.isna(price) or price == '':\n",
    "        return None\n",
    "    \n",
    "    # 使用改进的正则表达式\n",
    "    match = re.search(r'(\\d+(?:,\\d+)*(?:\\.\\d+)?)\\s*(pw|pcm|per week|per month)?', str(price), re.IGNORECASE)\n",
    "    \n",
    "    if match:\n",
    "        # 移除非数字字符并转换为浮点数\n",
    "        clean_price_str = re.sub(r'[^\\d.]', '', match.group(1))\n",
    "        \n",
    "        try:\n",
    "            price_value = float(clean_price_str)\n",
    "        except ValueError:\n",
    "            return None\n",
    "\n",
    "        # 如果是每月价格，转换为每周价格\n",
    "        if match.group(2) and ('m' in match.group(2).lower() or 'month' in match.group(2).lower()):\n",
    "            price_value /= 4.3  # 假设一个月平均4.3周\n",
    "\n",
    "        return round(price_value, 2)\n",
    "    else:\n",
    "        return None\n",
    "\n",
    "def parse_location(location_str):\n",
    "    if pd.isna(location_str):\n",
    "        return pd.Series({'streetAddress': None, 'addressLocality': None, 'addressRegion': None, 'postalCode': None})\n",
    "    location_dict = ast.literal_eval(location_str)\n",
    "    return pd.Series(location_dict)\n",
    "\n",
    "def parse_age_dist(age_dist_str):\n",
    "    if pd.isna(age_dist_str):\n",
    "        return None\n",
    "    age_dist_dict = ast.literal_eval(age_dist_str)\n",
    "    for key, value in age_dist_dict.items():\n",
    "        value = value.strip().rstrip('%')\n",
    "        value = float(value)\n",
    "        if value >= 50:\n",
    "            return key\n",
    "    \n",
    "    return 'balanced age' "
   ]
  },
  {
   "cell_type": "code",
   "execution_count": 53,
   "id": "fb206d4b",
   "metadata": {},
   "outputs": [],
   "source": [
    "def clean_properties(property_df):\n",
    "    property_df[['bedrooms', 'bathrooms', 'parking']] = property_df[['bedrooms', 'bathrooms', 'parking']].fillna(0)\n",
    "    \n",
    "    # price\n",
    "    property_df['price'] = property_df['price'].apply(clean_price)\n",
    "\n",
    "    # location\n",
    "    location_df = property_df['location'].apply(parse_location)\n",
    "    property_df = pd.concat([property_df.drop('location', axis=1), location_df], axis=1)\n",
    "    \n",
    "    # age distribution\n",
    "    property_df['age_distribution'] = property_df['age_distribution'].apply(parse_age_dist)\n",
    "    \n",
    "    property_df = property_df.dropna(subset=['price', 'streetAddress', 'addressLocality', 'postalCode'])\n",
    "    \n",
    "    property_df = property_df[[\n",
    "    'streetAddress', 'price', 'bedrooms', 'bathrooms', 'parking',\n",
    "    'addressLocality', 'addressRegion', 'postalCode', 'property_type', \n",
    "    'nearby_schools', 'nbn_type', 'age_distribution', 'geo'\n",
    "    ]]\n",
    "    \n",
    "    return property_df\n",
    "    "
   ]
  },
  {
   "cell_type": "markdown",
   "id": "7f3eecc0",
   "metadata": {},
   "source": [
    "### Apply Cleaning and Feature Engineering"
   ]
  },
  {
   "cell_type": "code",
   "execution_count": 56,
   "id": "d65eb264",
   "metadata": {},
   "outputs": [],
   "source": [
    "property_df = clean_properties(property_df)"
   ]
  },
  {
   "cell_type": "code",
   "execution_count": 61,
   "id": "08613e6d",
   "metadata": {},
   "outputs": [
    {
     "data": {
      "text/plain": [
       "streetAddress       6606\n",
       "price               6606\n",
       "bedrooms            6606\n",
       "bathrooms           6606\n",
       "parking             6606\n",
       "addressLocality     6606\n",
       "addressRegion       6606\n",
       "postalCode          6606\n",
       "property_type       6606\n",
       "nearby_schools      6606\n",
       "nbn_type            5217\n",
       "age_distribution    6606\n",
       "geo                 2328\n",
       "dtype: int64"
      ]
     },
     "execution_count": 61,
     "metadata": {},
     "output_type": "execute_result"
    }
   ],
   "source": [
    "property_df.count()"
   ]
  },
  {
   "cell_type": "code",
   "execution_count": 62,
   "id": "2d67d1b7",
   "metadata": {},
   "outputs": [],
   "source": [
    "output_path = \"../data/raw/cleaned_properties.csv\"\n",
    "property_df.to_csv(output_path, index=False)"
   ]
  },
  {
   "cell_type": "code",
   "execution_count": null,
   "id": "1df1c6c4",
   "metadata": {},
   "outputs": [],
   "source": []
  }
 ],
 "metadata": {
  "kernelspec": {
   "display_name": "Python 3 (ipykernel)",
   "language": "python",
   "name": "python3"
  },
  "language_info": {
   "codemirror_mode": {
    "name": "ipython",
    "version": 3
   },
   "file_extension": ".py",
   "mimetype": "text/x-python",
   "name": "python",
   "nbconvert_exporter": "python",
   "pygments_lexer": "ipython3",
   "version": "3.11.7"
  }
 },
 "nbformat": 4,
 "nbformat_minor": 5
}
